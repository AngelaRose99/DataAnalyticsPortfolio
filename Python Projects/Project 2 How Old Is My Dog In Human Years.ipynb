{
 "cells": [
  {
   "cell_type": "markdown",
   "id": "9e200816-3658-4285-bbfd-fb5bf24b4284",
   "metadata": {},
   "source": [
    "# How Old Is My Dog In Human Years"
   ]
  },
  {
   "cell_type": "markdown",
   "id": "a0ce98ce-ba97-44e1-8974-b503712560d7",
   "metadata": {},
   "source": [
    "# Kilograms to Pounds Calculator"
   ]
  },
  {
   "cell_type": "code",
   "execution_count": 1,
   "id": "a777698e-e331-4c5b-b21e-f05521b60c9a",
   "metadata": {},
   "outputs": [
    {
     "name": "stdin",
     "output_type": "stream",
     "text": [
      "Enter your name   Fraggle Dog\n",
      "Enter your weight in kilograms(kgs):  25\n"
     ]
    },
    {
     "name": "stdout",
     "output_type": "stream",
     "text": [
      "Fraggle Dog! You're weight in pounds(lbs) is: \n",
      "55.1155\n"
     ]
    }
   ],
   "source": [
    "name = input(\"Enter your name  \")\n",
    "\n",
    "weight_kgs = int(input(\"Enter your weight in kilograms(kgs): \"))\n",
    "\n",
    "weight_lbs = weight_kgs * 2.20462 \n",
    "\n",
    "print(name + \"! You're weight in pounds(lbs) is: \")\n",
    "print(weight_lbs)"
   ]
  },
  {
   "cell_type": "code",
   "execution_count": null,
   "id": "ff402607-e057-428d-ab4b-2d9e7267331c",
   "metadata": {},
   "outputs": [],
   "source": [
    "Pounds = Kilograms × 2.20462 "
   ]
  },
  {
   "cell_type": "markdown",
   "id": "cb916d66-060e-430e-9d27-44a8687202d0",
   "metadata": {},
   "source": [
    "# Age of Dog Calculator"
   ]
  },
  {
   "cell_type": "code",
   "execution_count": 22,
   "id": "2f85354d-c400-4354-8662-f68f0bb3c2fd",
   "metadata": {},
   "outputs": [
    {
     "name": "stdin",
     "output_type": "stream",
     "text": [
      "Enter your dogs name:   Fraggle\n",
      "Enter your dogs weight in pounds(lbs):  55\n",
      "Enter your dogs age in years:  13\n"
     ]
    },
    {
     "name": "stdout",
     "output_type": "stream",
     "text": [
      "Fraggle! You are 82 human years old.\n"
     ]
    }
   ],
   "source": [
    "name = input(\"Enter your dogs name:  \")\n",
    "\n",
    "weight = int(input(\"Enter your dogs weight in pounds(lbs): \"))\n",
    "\n",
    "age = int(input(\"Enter your dogs age in years: \"))\n",
    "\n",
    "if weight <=20:\n",
    "    if(age == 1):\n",
    "        print(name +\"! You are 15 human years old.\")\n",
    "    elif(age == 2):\n",
    "            print(name +\"! You are 24 human years old.\")\n",
    "    elif(age == 3):\n",
    "            print(name +\"! You are 28 human years old.\")\n",
    "    elif(age == 4):\n",
    "            print(name +\"! You are 32 human years old.\")\n",
    "    elif(age == 5):\n",
    "            print(name +\"! You are 36 human years old.\")\n",
    "    elif(age == 6):\n",
    "            print(name +\"! You are 40 human years old.\")\n",
    "    elif(age == 7):\n",
    "            print(name +\"! You are 44 human years old.\")\n",
    "    elif(age == 8):\n",
    "            print(name +\"! You are 48 human years old.\")\n",
    "    elif(age == 9):\n",
    "            print(name +\"! You are 52 human years old.\")\n",
    "    elif(age == 10):\n",
    "            print(name +\"! You are 56 human years old.\")\n",
    "    elif(age == 11):\n",
    "            print(name +\"! You are 60 human years old.\")\n",
    "    elif(age == 12):\n",
    "            print(name +\"! You are 64 human years old.\")\n",
    "    elif(age == 13):\n",
    "            print(name +\"! You are 68 human years old.\")\n",
    "    elif(age == 14):\n",
    "            print(name +\"! You are 72 human years old.\")\n",
    "    elif(age == 15):\n",
    "            print(name +\"! You are 76 human years old.\")\n",
    "    elif(age == 16):\n",
    "            print(name +\"! You are 80 human years old.\")\n",
    "    elif(age > 16):\n",
    "            print(name +\"! You are a very old pup.\")\n",
    "\n",
    "\n",
    "elif weight <=50:\n",
    "    if(age == 1):\n",
    "        print(name +\"! You are 15 human years old.\")\n",
    "    elif(age == 2):\n",
    "            print(name +\"! You are 24 human years old.\")\n",
    "    elif(age == 3):\n",
    "            print(name +\"! You are 28 human years old.\")\n",
    "    elif(age == 4):\n",
    "            print(name +\"! You are 32 human years old.\")\n",
    "    elif(age == 5):\n",
    "            print(name +\"! You are 36 human years old.\")\n",
    "    elif(age == 6):\n",
    "            print(name +\"! You are 42 human years old.\")\n",
    "    elif(age == 7):\n",
    "            print(name +\"! You are 47 human years old.\")\n",
    "    elif(age == 8):\n",
    "            print(name +\"! You are 51 human years old.\")\n",
    "    elif(age == 9):\n",
    "            print(name +\"! You are 56 human years old.\")\n",
    "    elif(age == 10):\n",
    "            print(name +\"! You are 60 human years old.\")\n",
    "    elif(age == 11):\n",
    "            print(name +\"! You are 65 human years old.\")\n",
    "    elif(age == 12):\n",
    "            print(name +\"! You are 69 human years old.\")\n",
    "    elif(age == 13):\n",
    "            print(name +\"! You are 74 human years old.\")\n",
    "    elif(age == 14):\n",
    "            print(name +\"! You are 78 human years old.\")\n",
    "    elif(age == 15):\n",
    "            print(name +\"! You are 83 human years old.\")\n",
    "    elif(age == 16):\n",
    "            print(name +\"! You are 87 human years old.\")\n",
    "    elif(age > 16):\n",
    "            print(name +\"! You are a very old pup.\")\n",
    "\n",
    "elif weight <=100:\n",
    "    if(age == 1):\n",
    "        print(name +\"! You are 15 human years old.\")\n",
    "    elif(age == 2):\n",
    "            print(name +\"! You are 24 human years old.\")\n",
    "    elif(age == 3):\n",
    "            print(name +\"! You are 28 human years old.\")\n",
    "    elif(age == 4):\n",
    "            print(name +\"! You are 32 human years old.\")\n",
    "    elif(age == 5):\n",
    "            print(name +\"! You are 36 human years old.\")\n",
    "    elif(age == 6):\n",
    "            print(name +\"! You are 45 human years old.\")\n",
    "    elif(age == 7):\n",
    "            print(name +\"! You are 50 human years old.\")\n",
    "    elif(age == 8):\n",
    "            print(name +\"! You are 55 human years old.\")\n",
    "    elif(age == 9):\n",
    "            print(name +\"! You are 61 human years old.\")\n",
    "    elif(age == 10):\n",
    "            print(name +\"! You are 66 human years old.\")\n",
    "    elif(age == 11):\n",
    "            print(name +\"! You are 72 human years old.\")\n",
    "    elif(age == 12):\n",
    "            print(name +\"! You are 77 human years old.\")\n",
    "    elif(age == 13):\n",
    "            print(name +\"! You are 82 human years old.\")\n",
    "    elif(age == 14):\n",
    "            print(name +\"! You are 88 human years old.\")\n",
    "    elif(age == 15):\n",
    "            print(name +\"! You are 93 human years old.\")\n",
    "    elif(age == 16):\n",
    "            print(name +\"! You are 99 human years old.\")\n",
    "    elif(age > 16):\n",
    "            print(name +\"! You are a very old pup.\")\n",
    "\n",
    "\n",
    "elif weight >100:\n",
    "    if(age == 1):\n",
    "        print(name +\"! You are 12 human years old.\")\n",
    "    elif(age == 2):\n",
    "            print(name +\"! You are 22 human years old.\")\n",
    "    elif(age == 3):\n",
    "            print(name +\"! You are 31 human years old.\")\n",
    "    elif(age == 4):\n",
    "            print(name +\"! You are 38 human years old.\")\n",
    "    elif(age == 5):\n",
    "            print(name +\"! You are 45 human years old.\")\n",
    "    elif(age == 6):\n",
    "            print(name +\"! You are 49 human years old.\")\n",
    "    elif(age == 7):\n",
    "            print(name +\"! You are 56 human years old.\")\n",
    "    elif(age == 8):\n",
    "            print(name +\"! You are 64 human years old.\")\n",
    "    elif(age == 9):\n",
    "            print(name +\"! You are 71 human years old.\")\n",
    "    elif(age == 10):\n",
    "            print(name +\"! You are 79 human years old.\")\n",
    "    elif(age == 11):\n",
    "            print(name +\"! You are 86 human years old.\")\n",
    "    elif(age == 12):\n",
    "            print(name +\"! You are 93 human years old.\")\n",
    "    elif(age == 13):\n",
    "            print(name +\"! You are 100 human years old.\")\n",
    "    elif(age == 14):\n",
    "            print(name +\"! You are 107 human years old.\")\n",
    "    elif(age == 15):\n",
    "            print(name +\"! You are 114 human years old.\")\n",
    "    elif(age == 16):\n",
    "            print(name +\"! You are 121 human years old.\")\n",
    "    elif(age > 16):\n",
    "            print(name +\"! You are a very old pup.\")\n",
    "\n",
    "else:\n",
    "    print(\"Please insert valid details\")"
   ]
  },
  {
   "cell_type": "code",
   "execution_count": null,
   "id": "2e48da49-d0e7-41b2-bbc6-cb3993aab914",
   "metadata": {},
   "outputs": [],
   "source": []
  }
 ],
 "metadata": {
  "kernelspec": {
   "display_name": "Python [conda env:base] *",
   "language": "python",
   "name": "conda-base-py"
  },
  "language_info": {
   "codemirror_mode": {
    "name": "ipython",
    "version": 3
   },
   "file_extension": ".py",
   "mimetype": "text/x-python",
   "name": "python",
   "nbconvert_exporter": "python",
   "pygments_lexer": "ipython3",
   "version": "3.12.7"
  }
 },
 "nbformat": 4,
 "nbformat_minor": 5
}
