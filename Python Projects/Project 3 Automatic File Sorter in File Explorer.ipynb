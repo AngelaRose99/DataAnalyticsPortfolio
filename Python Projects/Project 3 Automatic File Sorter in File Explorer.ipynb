{
 "cells": [
  {
   "cell_type": "markdown",
   "id": "fbb1017b-7dd3-4337-90c6-8ab496da9774",
   "metadata": {},
   "source": [
    "# Automatic File Sorter in File Explorer"
   ]
  },
  {
   "cell_type": "code",
   "execution_count": 1,
   "id": "0f32678c-449d-48a1-b23a-9d4d266bbec7",
   "metadata": {},
   "outputs": [],
   "source": [
    "import os, shutil"
   ]
  },
  {
   "cell_type": "code",
   "execution_count": 22,
   "id": "2abd1557-ae5b-41b0-8f4d-0bff83dc0eed",
   "metadata": {},
   "outputs": [],
   "source": [
    "path = r\"C:/Users/angelab/OneDrive/Documents/ALEX THE ANALYST/Python Project Files/\""
   ]
  },
  {
   "cell_type": "code",
   "execution_count": 26,
   "id": "71b448e3-48fb-4ff7-b86e-e8a9ae4200a2",
   "metadata": {},
   "outputs": [],
   "source": [
    "file_name = os.listdir(path)"
   ]
  },
  {
   "cell_type": "code",
   "execution_count": 28,
   "id": "60c22503-0a4d-4649-aa6b-1b6f916c4967",
   "metadata": {},
   "outputs": [
    {
     "name": "stdout",
     "output_type": "stream",
     "text": [
      "C:/Users/angelab/OneDrive/Documents/ALEX THE ANALYST/Python Project Files/xlsx files\n"
     ]
    }
   ],
   "source": [
    "folder_names = ['text files', 'image files', 'csv files', 'xlsx files']\n",
    "\n",
    "for loop in range(0,4):\n",
    "    if not os.path.exists(path + folder_names[loop]):\n",
    "        print (path + folder_names[loop])\n",
    "        os.makedirs(path + folder_names[loop])\n",
    "        "
   ]
  },
  {
   "cell_type": "code",
   "execution_count": 32,
   "id": "2f960504-9bd4-4df8-9106-7b7b60c87b5c",
   "metadata": {},
   "outputs": [
    {
     "name": "stdout",
     "output_type": "stream",
     "text": [
      "this file type is not included\n",
      "this file type is not included\n",
      "this file type is not included\n",
      "this file type is not included\n",
      "this file type is not included\n",
      "this file type is not included\n",
      "this file type is not included\n",
      "this file type is not included\n"
     ]
    }
   ],
   "source": [
    "for file in file_name:\n",
    "    if \".csv\" in file and not os.path.exists(path + \"csv files/\" + file):\n",
    "        shutil.move(path + file, path + \"csv files/\" + file)\n",
    "    elif \".xlsx\" in file and not os.path.exists(path + \"xlsx files/\" + file):\n",
    "        shutil.move(path + file, path + \"xlsx files/\" + file)\n",
    "    elif \".png\" in file and not os.path.exists(path + \"image files/\" + file):\n",
    "        shutil.move(path + file, path + \"image files/\" + file)\n",
    "    elif \".jpg\" in file and not os.path.exists(path + \"image files/\" + file):\n",
    "        shutil.move(path + file, path + \"image files/\" + file)\n",
    "    elif \".txt\" in file and not os.path.exists(path + \"text files/\" + file):\n",
    "        shutil.move(path + file, path + \"text files/\" + file)\n",
    "    else:\n",
    "        print(\"this file type is not included\")"
   ]
  },
  {
   "cell_type": "code",
   "execution_count": null,
   "id": "1e866f12-0302-43ee-ad59-8154caa85043",
   "metadata": {},
   "outputs": [],
   "source": []
  },
  {
   "cell_type": "code",
   "execution_count": null,
   "id": "7c601a7c-9c21-400b-9814-071e715c057d",
   "metadata": {},
   "outputs": [],
   "source": []
  },
  {
   "cell_type": "code",
   "execution_count": null,
   "id": "4a1952d0-8130-4360-aeca-b6a38ebc3960",
   "metadata": {},
   "outputs": [],
   "source": []
  },
  {
   "cell_type": "code",
   "execution_count": null,
   "id": "00a72dd2-05fe-4b2b-be2f-501cc736498f",
   "metadata": {},
   "outputs": [],
   "source": []
  },
  {
   "cell_type": "code",
   "execution_count": null,
   "id": "1520439b-6cc9-4782-b475-d721ab51b255",
   "metadata": {},
   "outputs": [],
   "source": []
  },
  {
   "cell_type": "code",
   "execution_count": null,
   "id": "e03a4609-38a5-432c-b169-6f7908414e0f",
   "metadata": {},
   "outputs": [],
   "source": []
  }
 ],
 "metadata": {
  "kernelspec": {
   "display_name": "Python [conda env:base] *",
   "language": "python",
   "name": "conda-base-py"
  },
  "language_info": {
   "codemirror_mode": {
    "name": "ipython",
    "version": 3
   },
   "file_extension": ".py",
   "mimetype": "text/x-python",
   "name": "python",
   "nbconvert_exporter": "python",
   "pygments_lexer": "ipython3",
   "version": "3.12.7"
  }
 },
 "nbformat": 4,
 "nbformat_minor": 5
}
