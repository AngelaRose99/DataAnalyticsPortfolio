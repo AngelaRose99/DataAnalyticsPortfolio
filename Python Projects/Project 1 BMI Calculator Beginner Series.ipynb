{
 "cells": [
  {
   "cell_type": "markdown",
   "id": "fb98b856-937a-48af-8261-c0aae5acc1f0",
   "metadata": {},
   "source": [
    "# BMI CALCULATOR"
   ]
  },
  {
   "cell_type": "code",
   "execution_count": null,
   "id": "2849afb3-645d-4b5a-a461-0f3488936893",
   "metadata": {},
   "outputs": [],
   "source": [
    "name = input(\"Enter your name  \")\n",
    "\n",
    "weight = int(input(\"Enter your weight in pounds: \"))\n",
    "\n",
    "height = int(input(\"Enter your height in inches: \"))\n",
    "\n",
    "BMI = (weight * 703) / (height * height)\n",
    "\n",
    "print(BMI)\n",
    "\n",
    "if BMI>0:\n",
    "    if(BMI < 18.5):\n",
    "        print(name +\"! You are underweight.\")\n",
    "    elif(BMI <= 24.9):\n",
    "        print(name +\"! You are normal weight.\")\n",
    "    elif(BMI <= 29.9):\n",
    "        print(name +\"! You are over weight.\")\n",
    "    elif(BMI <= 34.9):\n",
    "        print(name +\"! You are obese.\")\n",
    "    elif(BMI <= 39.9):\n",
    "        print(name +\"! You are severely obese.\")\n",
    "    elif(BMI > 40):\n",
    "        print(name +\"! You are morbidly obese.\")\n",
    "else:\n",
    "    print(\"Enter valid input\")"
   ]
  },
  {
   "cell_type": "code",
   "execution_count": 2,
   "id": "f94bcd17-ef6e-4fc1-bc31-9cf8527bc679",
   "metadata": {},
   "outputs": [
    {
     "name": "stdout",
     "output_type": "stream",
     "text": [
      "Alex\n"
     ]
    }
   ],
   "source": []
  },
  {
   "cell_type": "code",
   "execution_count": null,
   "id": "4b0c4a1d-1b8b-4e43-bbac-5b34ccf5c6b0",
   "metadata": {},
   "outputs": [],
   "source": []
  },
  {
   "cell_type": "code",
   "execution_count": null,
   "id": "9a23708c-68ca-4e83-abdf-1aafc446d61c",
   "metadata": {},
   "outputs": [],
   "source": []
  },
  {
   "cell_type": "code",
   "execution_count": null,
   "id": "1b474a8d-25e9-45e8-9da4-14805dc68527",
   "metadata": {},
   "outputs": [],
   "source": [
    "#BMI = (weight in pounds x 730) / (height in inches x height in inches)"
   ]
  },
  {
   "cell_type": "code",
   "execution_count": 12,
   "id": "7f1064cc-f35f-47ca-ac70-f5e28976bfa3",
   "metadata": {},
   "outputs": [
    {
     "ename": "SyntaxError",
     "evalue": "invalid syntax (2289280762.py, line 1)",
     "output_type": "error",
     "traceback": [
      "\u001b[1;36m  Cell \u001b[1;32mIn[12], line 1\u001b[1;36m\u001b[0m\n\u001b[1;33m    Under 18.5 - Under Weight - Minimal\u001b[0m\n\u001b[1;37m          ^\u001b[0m\n\u001b[1;31mSyntaxError\u001b[0m\u001b[1;31m:\u001b[0m invalid syntax\n"
     ]
    }
   ],
   "source": [
    "Under 18.5 - Under Weight - Minimal\n",
    "18.5 - 24.9 - Normal Weight - Minimal\n",
    "25 - 29.9 - Overweight - Increased\n",
    "30 - 34.9 - Obese - High\n",
    "35 - 39.9 - Severely Obese - Very High\n",
    "40 and Over - Morbidly Obese - Extremely High"
   ]
  },
  {
   "cell_type": "code",
   "execution_count": 20,
   "id": "9887e037-1d27-468d-b2a8-6bd7892d9523",
   "metadata": {},
   "outputs": [
    {
     "name": "stdout",
     "output_type": "stream",
     "text": [
      "Alex! You are over weight.\n"
     ]
    }
   ],
   "source": [
    "if BMI>0:\n",
    "    if(BMI < 18.5):\n",
    "        print(name +\"! You are underweight.\")\n",
    "    elif(BMI <= 24.9):\n",
    "        print(name +\"! You are normal weight.\")\n",
    "    elif(BMI <= 29.9):\n",
    "        print(name +\"! You are over weight.\")\n",
    "    elif(BMI <= 34.9):\n",
    "        print(name +\"! You are obese.\")\n",
    "    elif(BMI <= 39.9):\n",
    "        print(name +\"! You are severely obese.\")\n",
    "    elif(BMI > 40):\n",
    "        print(name +\"! You are morbidly obese.\")\n",
    "else:\n",
    "    print(\"Enter valid input\")"
   ]
  },
  {
   "cell_type": "code",
   "execution_count": null,
   "id": "98abcd98-172b-4642-8ca8-edf2cdf181c7",
   "metadata": {},
   "outputs": [],
   "source": []
  },
  {
   "cell_type": "code",
   "execution_count": null,
   "id": "f54b6fcc-5c6b-4694-aaae-1bed7e375231",
   "metadata": {},
   "outputs": [],
   "source": []
  },
  {
   "cell_type": "code",
   "execution_count": null,
   "id": "cac3ed4e-6033-492c-8f18-8e6ac22c1f27",
   "metadata": {},
   "outputs": [],
   "source": []
  },
  {
   "cell_type": "code",
   "execution_count": null,
   "id": "ccd46a06-2889-4380-88aa-9ad563e3779a",
   "metadata": {},
   "outputs": [],
   "source": []
  }
 ],
 "metadata": {
  "kernelspec": {
   "display_name": "Python [conda env:base] *",
   "language": "python",
   "name": "conda-base-py"
  },
  "language_info": {
   "codemirror_mode": {
    "name": "ipython",
    "version": 3
   },
   "file_extension": ".py",
   "mimetype": "text/x-python",
   "name": "python",
   "nbconvert_exporter": "python",
   "pygments_lexer": "ipython3",
   "version": "3.12.7"
  }
 },
 "nbformat": 4,
 "nbformat_minor": 5
}
